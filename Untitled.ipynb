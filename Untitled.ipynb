{
 "cells": [
  {
   "cell_type": "code",
   "execution_count": 2,
   "id": "57f9f80b-1c9d-46e8-88c5-22d2f68d0a29",
   "metadata": {},
   "outputs": [],
   "source": [
    "import subprocess, os\n",
    "import cv2\n",
    "import gi\n",
    "import sys\n",
    "import numpy as np\n",
    "import matplotlib.pyplot as plt\n",
    "import time\n",
    "import os\n",
    "gi.require_version(\"Gst\", \"1.0\")\n",
    "gi.require_version(\"GstVideo\", \"1.0\")\n",
    "from gi.repository import Gst, GstVideo\n"
   ]
  },
  {
   "cell_type": "code",
   "execution_count": 12,
   "id": "5a8bb3f7-95c4-4679-8fca-fbabc355fb1a",
   "metadata": {},
   "outputs": [
    {
     "data": {
      "text/plain": [
       "\u001b[0;31mInit signature:\u001b[0m \u001b[0mGstVideo\u001b[0m\u001b[0;34m.\u001b[0m\u001b[0mVideoEncoder\u001b[0m\u001b[0;34m(\u001b[0m\u001b[0mself\u001b[0m\u001b[0;34m,\u001b[0m \u001b[0;34m/\u001b[0m\u001b[0;34m,\u001b[0m \u001b[0;34m*\u001b[0m\u001b[0margs\u001b[0m\u001b[0;34m,\u001b[0m \u001b[0;34m**\u001b[0m\u001b[0mkwargs\u001b[0m\u001b[0;34m)\u001b[0m\u001b[0;34m\u001b[0m\u001b[0;34m\u001b[0m\u001b[0m\n",
       "\u001b[0;31mDocstring:\u001b[0m     \n",
       ":Constructors:\n",
       "\n",
       "::\n",
       "\n",
       "    VideoEncoder(**properties)\n",
       "\u001b[0;31mFile:\u001b[0m           ~/projects/hyplex_drone/<gi.repository.GstVideo>\n",
       "\u001b[0;31mType:\u001b[0m           GObjectMeta\n",
       "\u001b[0;31mSubclasses:\u001b[0m     \n"
      ]
     },
     "metadata": {},
     "output_type": "display_data"
    }
   ],
   "source": [
    "GstVideo.VideoEncoder?"
   ]
  },
  {
   "cell_type": "code",
   "execution_count": 14,
   "id": "6e7f72aa-0704-4864-adc5-58b7191848d5",
   "metadata": {},
   "outputs": [
    {
     "ename": "TypeError",
     "evalue": "cannot create instance of abstract (non-instantiable) type `GstVideoEncoder'",
     "output_type": "error",
     "traceback": [
      "\u001b[0;31m---------------------------------------------------------------------------\u001b[0m",
      "\u001b[0;31mTypeError\u001b[0m                                 Traceback (most recent call last)",
      "Cell \u001b[0;32mIn[14], line 1\u001b[0m\n\u001b[0;32m----> 1\u001b[0m a\u001b[38;5;241m=\u001b[39m\u001b[43mGstVideo\u001b[49m\u001b[38;5;241;43m.\u001b[39;49m\u001b[43mVideoEncoder\u001b[49m\u001b[43m(\u001b[49m\u001b[43m)\u001b[49m\n",
      "\u001b[0;31mTypeError\u001b[0m: cannot create instance of abstract (non-instantiable) type `GstVideoEncoder'"
     ]
    }
   ],
   "source": [
    "a=GstVideo.VideoEncoder()"
   ]
  },
  {
   "cell_type": "code",
   "execution_count": null,
   "id": "53cbab38-df32-4fe1-88fe-5ce4d951614a",
   "metadata": {},
   "outputs": [],
   "source": []
  },
  {
   "cell_type": "code",
   "execution_count": 15,
   "id": "9667f58c-bd3b-405e-a3a2-1d6ad93e5e74",
   "metadata": {},
   "outputs": [
    {
     "data": {
      "text/plain": [
       "\u001b[0;31mDocstring:\u001b[0m\n",
       "imwrite(filename, img[, params]) -> retval\n",
       ".   @brief Saves an image to a specified file.\n",
       ".   \n",
       ".   The function imwrite saves the image to the specified file. The image format is chosen based on the\n",
       ".   filename extension (see cv::imread for the list of extensions). In general, only 8-bit\n",
       ".   single-channel or 3-channel (with 'BGR' channel order) images\n",
       ".   can be saved using this function, with these exceptions:\n",
       ".   \n",
       ".   - 16-bit unsigned (CV_16U) images can be saved in the case of PNG, JPEG 2000, and TIFF formats\n",
       ".   - 32-bit float (CV_32F) images can be saved in PFM, TIFF, OpenEXR, and Radiance HDR formats;\n",
       ".     3-channel (CV_32FC3) TIFF images will be saved using the LogLuv high dynamic range encoding\n",
       ".     (4 bytes per pixel)\n",
       ".   - PNG images with an alpha channel can be saved using this function. To do this, create\n",
       ".   8-bit (or 16-bit) 4-channel image BGRA, where the alpha channel goes last. Fully transparent pixels\n",
       ".   should have alpha set to 0, fully opaque pixels should have alpha set to 255/65535 (see the code sample below).\n",
       ".   - Multiple images (vector of Mat) can be saved in TIFF format (see the code sample below).\n",
       ".   \n",
       ".   If the image format is not supported, the image will be converted to 8-bit unsigned (CV_8U) and saved that way.\n",
       ".   \n",
       ".   If the format, depth or channel order is different, use\n",
       ".   Mat::convertTo and cv::cvtColor to convert it before saving. Or, use the universal FileStorage I/O\n",
       ".   functions to save the image to XML or YAML format.\n",
       ".   \n",
       ".   The sample below shows how to create a BGRA image, how to set custom compression parameters and save it to a PNG file.\n",
       ".   It also demonstrates how to save multiple images in a TIFF file:\n",
       ".   @include snippets/imgcodecs_imwrite.cpp\n",
       ".   @param filename Name of the file.\n",
       ".   @param img (Mat or vector of Mat) Image or Images to be saved.\n",
       ".   @param params Format-specific parameters encoded as pairs (paramId_1, paramValue_1, paramId_2, paramValue_2, ... .) see cv::ImwriteFlags\n",
       "\u001b[0;31mType:\u001b[0m      builtin_function_or_method\n"
      ]
     },
     "metadata": {},
     "output_type": "display_data"
    }
   ],
   "source": [
    "cv2.imwrite?"
   ]
  },
  {
   "cell_type": "code",
   "execution_count": null,
   "id": "fcdf041a-731e-45d6-a6ae-148992194f3d",
   "metadata": {},
   "outputs": [],
   "source": []
  },
  {
   "cell_type": "code",
   "execution_count": null,
   "id": "bdeacfd4-bc29-44f2-88fb-833bc9e1b40d",
   "metadata": {},
   "outputs": [],
   "source": []
  }
 ],
 "metadata": {
  "kernelspec": {
   "display_name": "Python [conda env:tiscam]",
   "language": "python",
   "name": "conda-env-tiscam-py"
  },
  "language_info": {
   "codemirror_mode": {
    "name": "ipython",
    "version": 3
   },
   "file_extension": ".py",
   "mimetype": "text/x-python",
   "name": "python",
   "nbconvert_exporter": "python",
   "pygments_lexer": "ipython3",
   "version": "3.8.15"
  }
 },
 "nbformat": 4,
 "nbformat_minor": 5
}
